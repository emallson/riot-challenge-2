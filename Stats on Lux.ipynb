{
 "cells": [
  {
   "cell_type": "markdown",
   "metadata": {},
   "source": [
    "We need *some* stats for this. Lux is the natural choice for the champion because she is played most. We will start with the very simple: what is `Pr(X in Items|Champ=Lux)`?\n",
    "\n",
    "## `Pr(X in FinalItems|Champ=Lux)`\n",
    "\n",
    "We can phrase this as Bernoulli trials. A success when the RV `X` *is* in `Items`, failure when it is not. Of course, this can be computed by summing and dividing the dataset."
   ]
  },
  {
   "cell_type": "code",
   "execution_count": 11,
   "metadata": {
    "collapsed": true
   },
   "outputs": [],
   "source": [
    "import numpy as np\n",
    "import json"
   ]
  },
  {
   "cell_type": "code",
   "execution_count": 48,
   "metadata": {
    "collapsed": false
   },
   "outputs": [],
   "source": [
    "items = np.load(\"datasets/np/champ_99_items_feature_10000.npy\")\n",
    "versions = np.load(\"datasets/np/champ_99_version_feature_10000.npy\")\n",
    "with open('datasets/np/champ_99_items_feature_10000.json') as f:\n",
    "    labels = json.load(f)\n",
    "    labels = {v: k for k, v in labels.items()}\n",
    "with open('datasets/static/item.json') as f:\n",
    "    item_data = json.load(f)"
   ]
  },
  {
   "cell_type": "code",
   "execution_count": 23,
   "metadata": {
    "collapsed": false
   },
   "outputs": [],
   "source": [
    "pritem = items.sum(axis=0) / items.shape[0]"
   ]
  },
  {
   "cell_type": "code",
   "execution_count": 21,
   "metadata": {
    "collapsed": false
   },
   "outputs": [
    {
     "data": {
      "text/plain": [
       "{'colloq': 'yellow;',\n",
       " 'description': \"<groupLimit>Limited to 1 Trinket.</groupLimit><br><br><unique>Active:</unique> Places a <font color='#BBFFFF'>Stealth Ward</font> that lasts 60 seconds (120 second cooldown).<br><br>At level 9, this ward's duration increases to 120 seconds.<br><br>Limit 3 <font color='#BBFFFF'>Stealth Wards</font> on the map per player.<br><br><i>(Trinkets cannot be used in the first 30 seconds of a game. Selling a Trinket will disable Trinket use for 120 seconds).</i>\",\n",
       " 'effect': {'Effect1Amount': '60',\n",
       "  'Effect2Amount': '120',\n",
       "  'Effect3Amount': '120',\n",
       "  'Effect4Amount': '0',\n",
       "  'Effect5Amount': '0',\n",
       "  'Effect6Amount': '9',\n",
       "  'Effect7Amount': '30',\n",
       "  'Effect8Amount': '120'},\n",
       " 'gold': {'base': 0, 'purchasable': True, 'sell': 0, 'total': 0},\n",
       " 'group': 'RelicBase',\n",
       " 'image': {'full': '3340.png',\n",
       "  'group': 'item',\n",
       "  'h': 48,\n",
       "  'sprite': 'item2.png',\n",
       "  'w': 48,\n",
       "  'x': 336,\n",
       "  'y': 48},\n",
       " 'into': ['3361', '3362'],\n",
       " 'maps': {'10': False, '12': False},\n",
       " 'name': 'Warding Totem (Trinket)',\n",
       " 'plaintext': 'Periodically place a Stealth Ward',\n",
       " 'stats': {},\n",
       " 'tags': ['Active', 'Jungle', 'Lane', 'Trinket', 'Vision']}"
      ]
     },
     "execution_count": 21,
     "metadata": {},
     "output_type": "execute_result"
    }
   ],
   "source": [
    "item_data['data'][labels[pritem.argmax()]]"
   ]
  },
  {
   "cell_type": "code",
   "execution_count": 45,
   "metadata": {
    "collapsed": false
   },
   "outputs": [
    {
     "data": {
      "text/plain": [
       "{'Abyssal Scepter': 0.0122040517451794,\n",
       " 'Aegis of the Legion': 0.00073224310471076397,\n",
       " 'Aether Wisp': 0.1056870881132536,\n",
       " 'Amplifying Tome': 0.13717354161581646,\n",
       " 'Ancient Coin': 0.012692213814986576,\n",
       " \"Archangel's Staff\": 0.0063461069074932878,\n",
       " 'Ardent Censer': 0.0029289724188430559,\n",
       " \"Athene's Unholy Grail\": 0.2587258969978033,\n",
       " 'Avarice Blade': 0.00048816206980717598,\n",
       " 'B. F. Sword': 0.00073224310471076397,\n",
       " 'Banner of Command': 0.00122040517451794,\n",
       " \"Banshee's Veil\": 0.020990969001708566,\n",
       " \"Berserker's Greaves\": 0.0017085672443251159,\n",
       " 'Blade of the Ruined King': 0.00024408103490358799,\n",
       " 'Blasting Wand': 0.17427385892116182,\n",
       " 'Boots of Mobility': 0.016597510373443983,\n",
       " 'Boots of Speed': 0.10007322431047108,\n",
       " 'Boots of Swiftness': 0.0017085672443251159,\n",
       " 'Catalyst the Protector': 0.0024408103490358799,\n",
       " 'Chain Vest': 0.0019526482792287039,\n",
       " 'Chalice of Harmony': 0.038076641444959723,\n",
       " 'Cloak of Agility': 0.00048816206980717598,\n",
       " 'Cloth Armor': 0.015377105198926043,\n",
       " 'Crystalline Bracer': 0.00097632413961435197,\n",
       " 'Crystalline Flask': 0.0061020258725896998,\n",
       " 'Dagger': 0.00097632413961435197,\n",
       " \"Doran's Blade\": 0.0019526482792287039,\n",
       " \"Doran's Ring\": 0.41737856968513548,\n",
       " 'Elixir of Sorcery': 0.0024408103490358799,\n",
       " 'Enchantment: Alacrity': 0.00024408103490358799,\n",
       " 'Enchantment: Captain': 0.00024408103490358799,\n",
       " 'Enchantment: Distortion': 0.00024408103490358799,\n",
       " 'Enchantment: Furor': 0.00024408103490358799,\n",
       " 'Enchantment: Homeguard': 0.00024408103490358799,\n",
       " 'Enchantment: Magus': 0.00073224310471076397,\n",
       " 'Face of the Mountain': 0.00073224310471076397,\n",
       " 'Faerie Charm': 0.013180375884793752,\n",
       " 'Farsight Orb (Trinket)': 0.010251403465950696,\n",
       " 'Fiendish Codex': 0.068342689773004631,\n",
       " 'Forbidden Idol': 0.039297046619477666,\n",
       " \"Frost Queen's Claim\": 0.075665120820112272,\n",
       " 'Frostfang': 0.022699536246033682,\n",
       " 'Frozen Heart': 0.0019526482792287039,\n",
       " 'Frozen Mallet': 0.00024408103490358799,\n",
       " \"Giant's Belt\": 0.0046375396631681718,\n",
       " 'Glacial Shroud': 0.0019526482792287039,\n",
       " 'Greater Stealth Totem (Trinket)': 0.035147669026116671,\n",
       " 'Greater Vision Totem (Trinket)': 0.0082987551867219917,\n",
       " 'Guardian Angel': 0.0029289724188430559,\n",
       " 'Haunting Guise': 0.0039052965584574079,\n",
       " 'Health Potion': 0.13351232609226263,\n",
       " 'Hexdrinker': 0.00024408103490358799,\n",
       " 'Hextech Gunblade': 0.00048816206980717598,\n",
       " 'Hextech Revolver': 0.00097632413961435197,\n",
       " 'Iceborn Gauntlet': 0.0014644862094215279,\n",
       " 'Infinity Edge': 0.0017085672443251159,\n",
       " 'Ionian Boots of Lucidity': 0.0183060776177691,\n",
       " 'Last Whisper': 0.00048816206980717598,\n",
       " \"Liandry's Torment\": 0.0090309982914327548,\n",
       " 'Lich Bane': 0.011959970710275811,\n",
       " 'Locket of the Iron Solari': 0.00097632413961435197,\n",
       " 'Long Sword': 0.00024408103490358799,\n",
       " 'Mana Potion': 0.085428362216255799,\n",
       " 'Manamune': 0.00048816206980717598,\n",
       " 'Maw of Malmortius': 0.00024408103490358799,\n",
       " \"Mejai's Soulstealer\": 0.19672931413229192,\n",
       " \"Mercury's Treads\": 0.00048816206980717598,\n",
       " \"Mikael's Crucible\": 0.0073224310471076397,\n",
       " 'Morellonomicon': 0.3634366609714425,\n",
       " \"Nashor's Tooth\": 0.0024408103490358799,\n",
       " 'Needlessly Large Rod': 0.21649987795948256,\n",
       " 'Negatron Cloak': 0.0041493775933609959,\n",
       " 'Ninja Tabi': 0.00122040517451794,\n",
       " \"Nomad's Medallion\": 0.0041493775933609959,\n",
       " 'Null-Magic Mantle': 0.0046375396631681718,\n",
       " 'Ohmwrecker': 0.00024408103490358799,\n",
       " \"Oracle's Lens (Trinket)\": 0.019526482792287039,\n",
       " 'Phage': 0.00024408103490358799,\n",
       " 'Phantom Dancer': 0.00024408103490358799,\n",
       " 'Pickaxe': 0.00024408103490358799,\n",
       " \"Rabadon's Deathcap\": 0.37393214547229681,\n",
       " \"Randuin's Omen\": 0.00073224310471076397,\n",
       " 'Raptor Cloak': 0.00122040517451794,\n",
       " 'Ravenous Hydra (Melee Only)': 0.00024408103490358799,\n",
       " 'Recurve Bow': 0.00024408103490358799,\n",
       " 'Rejuvenation Bead': 0.00048816206980717598,\n",
       " 'Relic Shield': 0.00122040517451794,\n",
       " 'Righteous Glory': 0.00097632413961435197,\n",
       " 'Rod of Ages': 0.014156700024408104,\n",
       " 'Ruby Crystal': 0.011715889675372224,\n",
       " 'Ruby Sightstone': 0.019526482792287039,\n",
       " \"Runaan's Hurricane (Ranged Only)\": 0.0014644862094215279,\n",
       " \"Rylai's Crystal Scepter\": 0.019770563827190626,\n",
       " 'Sapphire Crystal': 0.0019526482792287039,\n",
       " 'Scrying Orb (Trinket)': 0.010007322431047107,\n",
       " \"Seeker's Armguard\": 0.061752501830607764,\n",
       " \"Seraph's Embrace\": 0.0056138638027825238,\n",
       " 'Sheen': 0.0046375396631681718,\n",
       " 'Sightstone': 0.11398584329997559,\n",
       " \"Sorcerer's Shoes\": 0.35953136441298511,\n",
       " \"Spectre's Cowl\": 0.010495484500854283,\n",
       " \"Spellthief's Edge\": 0.040029289724188427,\n",
       " 'Spirit Visage': 0.00073224310471076397,\n",
       " 'Statikk Shiv': 0.0026848913839394679,\n",
       " 'Stealth Ward': 0.015377105198926043,\n",
       " 'Stinger': 0.00073224310471076397,\n",
       " 'Sunfire Cape': 0.00122040517451794,\n",
       " 'Sweeping Lens (Trinket)': 0.090309982914327555,\n",
       " 'Talisman of Ascension': 0.013424456919697339,\n",
       " 'Tear of the Goddess': 0.011471808640468635,\n",
       " 'The Black Cleaver': 0.00048816206980717598,\n",
       " 'The Bloodthirster': 0.00048816206980717598,\n",
       " 'Thornmail': 0.00122040517451794,\n",
       " 'Total Biscuit of Rejuvenation': 0.043934586282645835,\n",
       " 'Trinity Force': 0.00024408103490358799,\n",
       " 'Twin Shadows': 0.0024408103490358799,\n",
       " 'Vampiric Scepter': 0.00048816206980717598,\n",
       " 'Vision Ward': 0.0061020258725896998,\n",
       " 'Void Staff': 0.1689040761532829,\n",
       " \"Warden's Mail\": 0.00073224310471076397,\n",
       " 'Warding Totem (Trinket)': 0.80619965828655116,\n",
       " \"Warmog's Armor\": 0.00122040517451794,\n",
       " 'Will of the Ancients': 0.00097632413961435197,\n",
       " 'Zeal': 0.00097632413961435197,\n",
       " \"Zeke's Herald\": 0.00048816206980717598,\n",
       " 'Zephyr': 0.00048816206980717598,\n",
       " \"Zhonya's Hourglass\": 0.21772028313400049,\n",
       " \"Zz'Rot Portal\": 0.00024408103490358799}"
      ]
     },
     "execution_count": 45,
     "metadata": {},
     "output_type": "execute_result"
    }
   ],
   "source": [
    "{item_data['data'][labels[i]]['name']: pr for i, pr in enumerate(pritem) if i in labels and labels[i] in item_data['data']}"
   ]
  },
  {
   "cell_type": "code",
   "execution_count": 50,
   "metadata": {
    "collapsed": true
   },
   "outputs": [],
   "source": [
    "items_pre = items[versions == '5.11']\n",
    "items_post = items[versions == '5.14']"
   ]
  },
  {
   "cell_type": "code",
   "execution_count": 61,
   "metadata": {
    "collapsed": false
   },
   "outputs": [],
   "source": [
    "def prdict(items):\n",
    "    pritem = items.sum(axis=0) / items.shape[0]\n",
    "    return {item_data['data'][labels[i]]['name']: pr for i, pr in enumerate(pritem) if i in labels and labels[i] in item_data['data']}"
   ]
  },
  {
   "cell_type": "code",
   "execution_count": 62,
   "metadata": {
    "collapsed": false
   },
   "outputs": [],
   "source": [
    "prs_pre = prdict(items_pre)\n",
    "prs_post = prdict(items_post)\n",
    "prs_diff = {k: prs_post[k] - prs_pre[k] for k in prs_pre.keys() if k in prs_post}"
   ]
  },
  {
   "cell_type": "code",
   "execution_count": 75,
   "metadata": {
    "collapsed": false
   },
   "outputs": [
    {
     "name": "stdout",
     "output_type": "stream",
     "text": [
      "Amplifying Tome\n",
      "0.09309201726\n"
     ]
    }
   ],
   "source": [
    "prs_diff_arr = np.array(list(prs_diff.values()))\n",
    "print(list(prs_diff.keys())[np.abs(prs_diff_arr).argmax()])\n",
    "print(prs_diff_arr[np.abs(prs_diff_arr).argmax()])"
   ]
  },
  {
   "cell_type": "code",
   "execution_count": 89,
   "metadata": {
    "collapsed": false
   },
   "outputs": [
    {
     "name": "stdout",
     "output_type": "stream",
     "text": [
      "['Amplifying Tome' 'Needlessly Large Rod' 'Void Staff' \"Rabadon's Deathcap\"\n",
      " 'Morellonomicon' \"Seeker's Armguard\" 'Total Biscuit of Rejuvenation'\n",
      " \"Athene's Unholy Grail\" \"Mejai's Soulstealer\" \"Frost Queen's Claim\"]\n",
      "[ 0.09309202  0.05942969 -0.04434057  0.04153743  0.0400552  -0.03248525\n",
      "  0.02609572 -0.02266758 -0.02253356 -0.0205258 ]\n"
     ]
    },
    {
     "data": {
      "text/plain": [
       "{'Amplifying Tome': 0.093092017260034021,\n",
       " \"Athene's Unholy Grail\": -0.02266758351791498,\n",
       " \"Frost Queen's Claim\": -0.020525801132283805,\n",
       " \"Mejai's Soulstealer\": -0.022533561034096872,\n",
       " 'Morellonomicon': 0.040055196644489421,\n",
       " 'Needlessly Large Rod': 0.059429693093666747,\n",
       " \"Rabadon's Deathcap\": 0.041537433768408127,\n",
       " \"Seeker's Armguard\": -0.032485245928680455,\n",
       " 'Total Biscuit of Rejuvenation': 0.026095724012653788,\n",
       " 'Void Staff': -0.044340565564572304}"
      ]
     },
     "execution_count": 89,
     "metadata": {},
     "output_type": "execute_result"
    }
   ],
   "source": [
    "biggest_changes_indices = np.abs(prs_diff_arr).argsort()[::-1][:10]\n",
    "print(np.array(list(prs_diff.keys()))[biggest_changes_indices])\n",
    "print(prs_diff_arr[biggest_changes_indices])\n",
    "dict(zip(np.array(list(prs_diff.keys()))[biggest_changes_indices],prs_diff_arr[biggest_changes_indices]))"
   ]
  },
  {
   "cell_type": "code",
   "execution_count": null,
   "metadata": {
    "collapsed": false
   },
   "outputs": [],
   "source": []
  },
  {
   "cell_type": "code",
   "execution_count": null,
   "metadata": {
    "collapsed": true
   },
   "outputs": [],
   "source": []
  }
 ],
 "metadata": {
  "kernelspec": {
   "display_name": "Python 3",
   "language": "python",
   "name": "python3"
  },
  "language_info": {
   "codemirror_mode": {
    "name": "ipython",
    "version": 3
   },
   "file_extension": ".py",
   "mimetype": "text/x-python",
   "name": "python",
   "nbconvert_exporter": "python",
   "pygments_lexer": "ipython3",
   "version": "3.4.3"
  }
 },
 "nbformat": 4,
 "nbformat_minor": 0
}
