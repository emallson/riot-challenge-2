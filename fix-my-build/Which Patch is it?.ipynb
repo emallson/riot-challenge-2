{
 "cells": [
  {
   "cell_type": "markdown",
   "metadata": {},
   "source": [
    "The question here is whether we can determine which patch a game is from. This has potential application for telling users that their playstyle is outdated, or for static stats by learning which features are determinate in making that decision."
   ]
  },
  {
   "cell_type": "code",
   "execution_count": 13,
   "metadata": {
    "collapsed": false
   },
   "outputs": [],
   "source": [
    "%matplotlib inline\n",
    "import numpy as np\n",
    "from sklearn import svm, metrics\n",
    "from sklearn import linear_model as lmod\n",
    "from sklearn.cross_validation import train_test_split"
   ]
  },
  {
   "cell_type": "code",
   "execution_count": 14,
   "metadata": {
    "collapsed": false
   },
   "outputs": [
    {
     "data": {
      "text/plain": [
       "(4097, 268)"
      ]
     },
     "execution_count": 14,
     "metadata": {},
     "output_type": "execute_result"
    }
   ],
   "source": [
    "patch = np.load('../datasets/np/champ_99_version_feature_10000.npy')\n",
    "items = np.load('../datasets/np/champ_99_items_feature_10000.npy')\n",
    "wins = np.load('../datasets/np/champ_99_stats.winner_feature_10000.npy').reshape((-1, 1))\n",
    "features = np.hstack((items, wins))\n",
    "features.shape"
   ]
  },
  {
   "cell_type": "markdown",
   "metadata": {},
   "source": [
    "The `patch` information is the output. It is trivially to reformat into the customary -1, 1"
   ]
  },
  {
   "cell_type": "code",
   "execution_count": 15,
   "metadata": {
    "collapsed": false
   },
   "outputs": [],
   "source": [
    "p511 = patch == '5.11'\n",
    "output = np.ones(patch.shape)\n",
    "output[p511] = -1"
   ]
  },
  {
   "cell_type": "code",
   "execution_count": 16,
   "metadata": {
    "collapsed": false
   },
   "outputs": [
    {
     "data": {
      "text/plain": [
       "RandomizedLogisticRegression(C=1, fit_intercept=True,\n",
       "               memory=Memory(cachedir=None), n_jobs=1, n_resampling=200,\n",
       "               normalize=True, pre_dispatch='3*n_jobs', random_state=None,\n",
       "               sample_fraction=0.75, scaling=0.5, selection_threshold=0.25,\n",
       "               tol=0.001, verbose=False)"
      ]
     },
     "execution_count": 16,
     "metadata": {},
     "output_type": "execute_result"
    }
   ],
   "source": [
    "FS = lmod.RandomizedLogisticRegression()\n",
    "FS.fit(features, output)"
   ]
  },
  {
   "cell_type": "code",
   "execution_count": 17,
   "metadata": {
    "collapsed": false
   },
   "outputs": [
    {
     "data": {
      "text/plain": [
       "(array([  3,   9,  12,  17,  25,  39,  67,  68, 139, 144, 145, 146]),)"
      ]
     },
     "execution_count": 17,
     "metadata": {},
     "output_type": "execute_result"
    }
   ],
   "source": [
    "FS.get_support().nonzero()"
   ]
  },
  {
   "cell_type": "markdown",
   "metadata": {},
   "source": [
    "So on a single-champion basis (with an admittedly small dataset size, 255 samples total) we are getting no features selected. Dass ist nicht so gut.\n",
    "\n",
    "**EDIT** After a second run with an order of a magnitude more data, RLR extracts two features of import.\n",
    "**EDIT** After fixing a dataset generation bug, RLR extracts 12 features of import!"
   ]
  },
  {
   "cell_type": "code",
   "execution_count": 18,
   "metadata": {
    "collapsed": false
   },
   "outputs": [
    {
     "name": "stdout",
     "output_type": "stream",
     "text": [
      "0.700511913276\n"
     ]
    }
   ],
   "source": [
    "M = svm.LinearSVC()\n",
    "train_feat, test_feat, train_out, test_out = train_test_split(features, output, test_size=0.33)\n",
    "M.fit(train_feat, train_out)\n",
    "pred = M.predict(test_feat)\n",
    "fpr, tpr, _ = metrics.roc_curve(test_out, pred)\n",
    "auc = metrics.auc(fpr, tpr)\n",
    "print(auc)"
   ]
  },
  {
   "cell_type": "markdown",
   "metadata": {},
   "source": [
    "Only slightly better than random. Let's see how things look using only the RLR features.\n",
    "**EDIT** Much better after fixing a dataset generation bug."
   ]
  },
  {
   "cell_type": "code",
   "execution_count": 21,
   "metadata": {
    "collapsed": false
   },
   "outputs": [
    {
     "name": "stdout",
     "output_type": "stream",
     "text": [
      "0.70717855358\n",
      "0.00185621474977\n"
     ]
    }
   ],
   "source": [
    "support = FS.get_support()\n",
    "M = svm.LinearSVC()\n",
    "M.fit(train_feat[:, support], train_out)\n",
    "pred = M.predict(test_feat[:, support])\n",
    "fpr, tpr, _ = metrics.roc_curve(test_out, pred)\n",
    "auc = metrics.auc(fpr, tpr)\n",
    "print(auc)\n",
    "print(metrics.r2_score(test_out, pred))"
   ]
  },
  {
   "cell_type": "markdown",
   "metadata": {},
   "source": [
    "No significant improvement (other than in training time)."
   ]
  },
  {
   "cell_type": "code",
   "execution_count": 20,
   "metadata": {
    "collapsed": false
   },
   "outputs": [
    {
     "name": "stdout",
     "output_type": "stream",
     "text": [
      "0.758314855876\n",
      "0.692803598201\n",
      "-0.0528807025059\n"
     ]
    }
   ],
   "source": [
    "output[output == -1] = 0\n",
    "train_feat, test_feat, train_out, test_out = train_test_split(features, output, test_size=0.33)\n",
    "L = lmod.LogisticRegression()\n",
    "L.fit(train_feat, train_out)\n",
    "score = L.score(test_feat, test_out)\n",
    "print(score)\n",
    "pred = L.predict(test_feat)\n",
    "fpr, tpr, _ = metrics.roc_curve(test_out, pred)\n",
    "print(metrics.auc(fpr, tpr))\n",
    "print(metrics.r2_score(test_out, pred))"
   ]
  },
  {
   "cell_type": "markdown",
   "metadata": {},
   "source": []
  }
 ],
 "metadata": {
  "kernelspec": {
   "display_name": "Python 2",
   "language": "python",
   "name": "python2"
  },
  "language_info": {
   "codemirror_mode": {
    "name": "ipython",
    "version": 2
   },
   "file_extension": ".py",
   "mimetype": "text/x-python",
   "name": "python",
   "nbconvert_exporter": "python",
   "pygments_lexer": "ipython2",
   "version": "2.7.10"
  }
 },
 "nbformat": 4,
 "nbformat_minor": 0
}
