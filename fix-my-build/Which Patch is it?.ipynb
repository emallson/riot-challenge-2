{
 "cells": [
  {
   "cell_type": "markdown",
   "metadata": {},
   "source": [
    "The question here is whether we can determine which patch a game is from. This has potential application for telling users that their playstyle is outdated, or for static stats by learning which features are determinate in making that decision."
   ]
  },
  {
   "cell_type": "code",
   "execution_count": 1,
   "metadata": {
    "collapsed": false
   },
   "outputs": [],
   "source": [
    "%matplotlib inline\n",
    "import numpy as np\n",
    "from sklearn import svm, metrics\n",
    "from sklearn import linear_model as lmod\n",
    "from sklearn.cross_validation import train_test_split"
   ]
  },
  {
   "cell_type": "code",
   "execution_count": 2,
   "metadata": {
    "collapsed": false
   },
   "outputs": [],
   "source": [
    "patch = np.load('../datasets/np/champ_1_version_feature_10000.npy')\n",
    "items = np.load('../datasets/np/champ_1_items_feature_10000.npy')\n",
    "wins = np.load('../datasets/np/champ_1_stats.winner_feature_10000.npy').reshape((-1, 1))\n",
    "features = np.hstack((items, wins))"
   ]
  },
  {
   "cell_type": "markdown",
   "metadata": {},
   "source": [
    "The `patch` information is the output. It is trivially to reformat into the customary -1, 1"
   ]
  },
  {
   "cell_type": "code",
   "execution_count": 6,
   "metadata": {
    "collapsed": false
   },
   "outputs": [],
   "source": [
    "p511 = patch == '5.11'\n",
    "output = np.ones(patch.shape)\n",
    "output[p511] = -1"
   ]
  },
  {
   "cell_type": "code",
   "execution_count": 4,
   "metadata": {
    "collapsed": false
   },
   "outputs": [
    {
     "data": {
      "text/plain": [
       "RandomizedLogisticRegression(C=1, fit_intercept=True,\n",
       "               memory=Memory(cachedir=None), n_jobs=1, n_resampling=200,\n",
       "               normalize=True, pre_dispatch='3*n_jobs', random_state=None,\n",
       "               sample_fraction=0.75, scaling=0.5, selection_threshold=0.25,\n",
       "               tol=0.001, verbose=False)"
      ]
     },
     "execution_count": 4,
     "metadata": {},
     "output_type": "execute_result"
    }
   ],
   "source": [
    "FS = lmod.RandomizedLogisticRegression()\n",
    "FS.fit(features, output)"
   ]
  },
  {
   "cell_type": "code",
   "execution_count": 7,
   "metadata": {
    "collapsed": false
   },
   "outputs": [
    {
     "data": {
      "text/plain": [
       "(array([ 84, 223]),)"
      ]
     },
     "execution_count": 7,
     "metadata": {},
     "output_type": "execute_result"
    }
   ],
   "source": [
    "FS.get_support().nonzero()"
   ]
  },
  {
   "cell_type": "markdown",
   "metadata": {},
   "source": [
    "So on a single-champion basis (with an admittedly small dataset size, 255 samples total) we are getting no features selected. Dass ist nicht so gut.\n",
    "\n",
    "**EDIT** After a second run with an order of a magnitude more data, RLR extracts two features of import."
   ]
  },
  {
   "cell_type": "code",
   "execution_count": 8,
   "metadata": {
    "collapsed": false
   },
   "outputs": [
    {
     "name": "stdout",
     "output_type": "stream",
     "text": [
      "0.501591735967\n"
     ]
    }
   ],
   "source": [
    "M = svm.LinearSVC()\n",
    "train_feat, test_feat, train_out, test_out = train_test_split(features, output, test_size=0.33)\n",
    "M.fit(train_feat, train_out)\n",
    "pred = M.predict(test_feat)\n",
    "fpr, tpr, _ = metrics.roc_curve(test_out, pred)\n",
    "auc = metrics.auc(fpr, tpr)\n",
    "print(auc)"
   ]
  },
  {
   "cell_type": "markdown",
   "metadata": {},
   "source": [
    "Only slightly better than random. Let's see how things look using only the RLR features."
   ]
  },
  {
   "cell_type": "code",
   "execution_count": 9,
   "metadata": {
    "collapsed": false
   },
   "outputs": [
    {
     "name": "stdout",
     "output_type": "stream",
     "text": [
      "0.536609927235\n"
     ]
    }
   ],
   "source": [
    "support = FS.get_support()\n",
    "M = svm.LinearSVC()\n",
    "M.fit(train_feat[:, support], train_out)\n",
    "pred = M.predict(test_feat[:, support])\n",
    "fpr, tpr, _ = metrics.roc_curve(test_out, pred)\n",
    "auc = metrics.auc(fpr, tpr)\n",
    "print(auc)"
   ]
  },
  {
   "cell_type": "markdown",
   "metadata": {},
   "source": [
    "No significant improvement (other than in training time). The only possibility that I can think of is that Annie builds did not change much between the two patches. I need to re-learn statistical significance testing and confidence intervals to confirm."
   ]
  }
 ],
 "metadata": {
  "kernelspec": {
   "display_name": "Python 2",
   "language": "python",
   "name": "python2"
  },
  "language_info": {
   "codemirror_mode": {
    "name": "ipython",
    "version": 2
   },
   "file_extension": ".py",
   "mimetype": "text/x-python",
   "name": "python",
   "nbconvert_exporter": "python",
   "pygments_lexer": "ipython2",
   "version": "2.7.10"
  }
 },
 "nbformat": 4,
 "nbformat_minor": 0
}
