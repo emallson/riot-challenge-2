{
 "cells": [
  {
   "cell_type": "markdown",
   "metadata": {},
   "source": [
    "The idea here is to try clustering Lux builds. Maybe that will reveal some underlying structure."
   ]
  },
  {
   "cell_type": "code",
   "execution_count": null,
   "metadata": {
    "collapsed": false
   },
   "outputs": [],
   "source": [
    "%matplotlib inline\n",
    "import numpy as np\n",
    "from sklearn import svm, metrics, cluster\n",
    "from sklearn import linear_model as lmod\n",
    "import matplotlib.pyplot as plt"
   ]
  },
  {
   "cell_type": "code",
   "execution_count": null,
   "metadata": {
    "collapsed": true
   },
   "outputs": [],
   "source": [
    "builds = np.load('../datasets/np/champ_99_items_feature_10000.npy')\n",
    "patch = np.load('../datasets/np/champ_99_version_feature_10000.npy')"
   ]
  },
  {
   "cell_type": "code",
   "execution_count": null,
   "metadata": {
    "collapsed": false
   },
   "outputs": [],
   "source": [
    "db = cluster.DBSCAN(eps=0.3, min_samples=10)\n",
    "db.fit(builds)"
   ]
  },
  {
   "cell_type": "code",
   "execution_count": null,
   "metadata": {
    "collapsed": false
   },
   "outputs": [],
   "source": [
    "labels = db.labels_\n",
    "n_clusters_ = len(set(labels)) - (1 if -1 in labels else 0)\n",
    "print(n_clusters_)"
   ]
  },
  {
   "cell_type": "markdown",
   "metadata": {},
   "source": [
    "DBSCAN produces one giant cluster. The way that DBSCAN works is by identifying regions of high density, so it stands to reason that most Lux builds would have high density around a single point. It also means that the pre-patch and post-patch segments are not significantly different."
   ]
  },
  {
   "cell_type": "code",
   "execution_count": null,
   "metadata": {
    "collapsed": false
   },
   "outputs": [],
   "source": [
    "km = cluster.KMeans(n_clusters=10)\n",
    "km.fit(builds)"
   ]
  },
  {
   "cell_type": "code",
   "execution_count": null,
   "metadata": {
    "collapsed": false
   },
   "outputs": [],
   "source": [
    "print(km.labels_)\n",
    "km.cluster_centers_.round()"
   ]
  },
  {
   "cell_type": "code",
   "execution_count": null,
   "metadata": {
    "collapsed": true
   },
   "outputs": [],
   "source": [
    "import json\n",
    "with open('../datasets/static/item.json') as f:\n",
    "    items = json.load(f)\n",
    "    item_name_map = {i: items['data'][k]['name'] for i, k in enumerate(items['data'].keys())}"
   ]
  },
  {
   "cell_type": "code",
   "execution_count": null,
   "metadata": {
    "collapsed": false
   },
   "outputs": [],
   "source": [
    "L = lmod.LogisticRegression()\n",
    "output = np.ones(patch.shape)\n",
    "output[patch == '5.11'] = 0\n",
    "L.fit(km.labels_.reshape((-1, 1)), output)\n",
    "print(metrics.r2_score(output, L.predict(km.labels_.reshape((-1,1)))))"
   ]
  },
  {
   "cell_type": "markdown",
   "metadata": {},
   "source": [
    "KMeans -> logit performs poorly (to put it lightly). Let's try a different clustering method."
   ]
  },
  {
   "cell_type": "code",
   "execution_count": null,
   "metadata": {
    "collapsed": false
   },
   "outputs": [],
   "source": [
    "AP = cluster.AffinityPropagation()\n",
    "AP.fit(builds)"
   ]
  },
  {
   "cell_type": "code",
   "execution_count": null,
   "metadata": {
    "collapsed": false
   },
   "outputs": [],
   "source": [
    "indices = AP.cluster_centers_indices_"
   ]
  },
  {
   "cell_type": "code",
   "execution_count": null,
   "metadata": {
    "collapsed": false
   },
   "outputs": [],
   "source": [
    "AP_M = svm.SVC(kernel='poly')\n",
    "AP_M.fit(AP.labels_.reshape((-1,1)), output)\n",
    "pred = AP_M.predict(AP.labels_.reshape((-1,1)))\n",
    "fpr, tpr, _ = metrics.roc_curve(output, pred)\n",
    "print(metrics.auc(fpr, tpr))"
   ]
  },
  {
   "cell_type": "code",
   "execution_count": null,
   "metadata": {
    "collapsed": true
   },
   "outputs": [],
   "source": [
    "print('foo')"
   ]
  },
  {
   "cell_type": "code",
   "execution_count": null,
   "metadata": {
    "collapsed": true
   },
   "outputs": [],
   "source": []
  }
 ],
 "metadata": {
  "kernelspec": {
   "display_name": "Python 2",
   "language": "python",
   "name": "python2"
  },
  "language_info": {
   "codemirror_mode": {
    "name": "ipython",
    "version": 2
   },
   "file_extension": ".py",
   "mimetype": "text/x-python",
   "name": "python",
   "nbconvert_exporter": "python",
   "pygments_lexer": "ipython2",
   "version": "2.7.10"
  }
 },
 "nbformat": 4,
 "nbformat_minor": 0
}
