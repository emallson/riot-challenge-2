{
 "cells": [
  {
   "cell_type": "markdown",
   "metadata": {},
   "source": [
    "The idea here is to extract timelines from the data. This will generally involve figuring out how the hell to parse the timeline events."
   ]
  },
  {
   "cell_type": "code",
   "execution_count": 3,
   "metadata": {
    "collapsed": true
   },
   "outputs": [],
   "source": [
    "%matplotlib inline\n",
    "import numpy as np\n",
    "import json\n",
    "import matplotlib.pyplot as plt"
   ]
  },
  {
   "cell_type": "code",
   "execution_count": 4,
   "metadata": {
    "collapsed": true
   },
   "outputs": [],
   "source": [
    "with open(\"datasets/matches/1179293066.json\", \"r\") as f:\n",
    "    data = json.load(f)"
   ]
  },
  {
   "cell_type": "markdown",
   "metadata": {},
   "source": [
    "## Discrete Event Timeline ##\n",
    "\n",
    "We want to extract a timeline of a certain kind of discrete event (eg item purchases). The ordering of events could prove invaluable."
   ]
  },
  {
   "cell_type": "code",
   "execution_count": 35,
   "metadata": {
    "collapsed": false
   },
   "outputs": [
    {
     "data": {
      "text/plain": [
       "{'1': {'currentGold': 344,\n",
       "  'dominionScore': 0,\n",
       "  'jungleMinionsKilled': 4,\n",
       "  'level': 2,\n",
       "  'minionsKilled': 0,\n",
       "  'participantId': 1,\n",
       "  'position': {'x': 7614, 'y': 4025},\n",
       "  'teamScore': 0,\n",
       "  'totalGold': 814,\n",
       "  'xp': 500},\n",
       " '10': {'currentGold': 428,\n",
       "  'dominionScore': 0,\n",
       "  'jungleMinionsKilled': 6,\n",
       "  'level': 3,\n",
       "  'minionsKilled': 0,\n",
       "  'participantId': 10,\n",
       "  'position': {'x': 11116, 'y': 8502},\n",
       "  'teamScore': 0,\n",
       "  'totalGold': 898,\n",
       "  'xp': 672},\n",
       " '2': {'currentGold': 266,\n",
       "  'dominionScore': 0,\n",
       "  'jungleMinionsKilled': 0,\n",
       "  'level': 2,\n",
       "  'minionsKilled': 5,\n",
       "  'participantId': 2,\n",
       "  'position': {'x': 6961, 'y': 7243},\n",
       "  'teamScore': 0,\n",
       "  'totalGold': 741,\n",
       "  'xp': 500},\n",
       " '3': {'currentGold': 231,\n",
       "  'dominionScore': 0,\n",
       "  'jungleMinionsKilled': 0,\n",
       "  'level': 1,\n",
       "  'minionsKilled': 3,\n",
       "  'participantId': 3,\n",
       "  'position': {'x': 852, 'y': 10985},\n",
       "  'teamScore': 0,\n",
       "  'totalGold': 701,\n",
       "  'xp': 264},\n",
       " '4': {'currentGold': 176,\n",
       "  'dominionScore': 0,\n",
       "  'jungleMinionsKilled': 0,\n",
       "  'level': 2,\n",
       "  'minionsKilled': 0,\n",
       "  'participantId': 4,\n",
       "  'position': {'x': 13339, 'y': 2427},\n",
       "  'teamScore': 0,\n",
       "  'totalGold': 646,\n",
       "  'xp': 326},\n",
       " '5': {'currentGold': 346,\n",
       "  'dominionScore': 0,\n",
       "  'jungleMinionsKilled': 0,\n",
       "  'level': 2,\n",
       "  'minionsKilled': 10,\n",
       "  'participantId': 5,\n",
       "  'position': {'x': 12635, 'y': 2443},\n",
       "  'teamScore': 0,\n",
       "  'totalGold': 821,\n",
       "  'xp': 326},\n",
       " '6': {'currentGold': 211,\n",
       "  'dominionScore': 0,\n",
       "  'jungleMinionsKilled': 0,\n",
       "  'level': 1,\n",
       "  'minionsKilled': 2,\n",
       "  'participantId': 6,\n",
       "  'position': {'x': 13437, 'y': 3374},\n",
       "  'teamScore': 0,\n",
       "  'totalGold': 686,\n",
       "  'xp': 249},\n",
       " '7': {'currentGold': 316,\n",
       "  'dominionScore': 0,\n",
       "  'jungleMinionsKilled': 0,\n",
       "  'level': 2,\n",
       "  'minionsKilled': 8,\n",
       "  'participantId': 7,\n",
       "  'position': {'x': 8067, 'y': 7966},\n",
       "  'teamScore': 0,\n",
       "  'totalGold': 786,\n",
       "  'xp': 529},\n",
       " '8': {'currentGold': 178,\n",
       "  'dominionScore': 0,\n",
       "  'jungleMinionsKilled': 0,\n",
       "  'level': 1,\n",
       "  'minionsKilled': 0,\n",
       "  'participantId': 8,\n",
       "  'position': {'x': 13406, 'y': 3752},\n",
       "  'teamScore': 0,\n",
       "  'totalGold': 683,\n",
       "  'xp': 249},\n",
       " '9': {'currentGold': 316,\n",
       "  'dominionScore': 0,\n",
       "  'jungleMinionsKilled': 0,\n",
       "  'level': 2,\n",
       "  'minionsKilled': 7,\n",
       "  'participantId': 9,\n",
       "  'position': {'x': 2124, 'y': 11656},\n",
       "  'teamScore': 0,\n",
       "  'totalGold': 766,\n",
       "  'xp': 529}}"
      ]
     },
     "execution_count": 35,
     "metadata": {},
     "output_type": "execute_result"
    }
   ],
   "source": [
    "data[\"timeline\"][\"frames\"][3]['participantFrames']"
   ]
  },
  {
   "cell_type": "code",
   "execution_count": 26,
   "metadata": {
    "collapsed": true
   },
   "outputs": [],
   "source": [
    "def event_selector(data, participantId, eventType):\n",
    "    def select_events(frame):\n",
    "        if 'events' not in frame:\n",
    "            return []\n",
    "        return [event for event in frame['events'] \n",
    "                if event['eventType'] == eventType\n",
    "                and event['participantId'] == participantId ]\n",
    "    return [item for l in map(select_events, data['timeline']['frames']) for item in l]"
   ]
  },
  {
   "cell_type": "code",
   "execution_count": 29,
   "metadata": {
    "collapsed": false
   },
   "outputs": [
    {
     "data": {
      "text/plain": [
       "[{'eventType': 'SKILL_LEVEL_UP',\n",
       "  'levelUpType': 'NORMAL',\n",
       "  'participantId': 1,\n",
       "  'skillSlot': 2,\n",
       "  'timestamp': 45667},\n",
       " {'eventType': 'SKILL_LEVEL_UP',\n",
       "  'levelUpType': 'NORMAL',\n",
       "  'participantId': 1,\n",
       "  'skillSlot': 3,\n",
       "  'timestamp': 129787},\n",
       " {'eventType': 'SKILL_LEVEL_UP',\n",
       "  'levelUpType': 'NORMAL',\n",
       "  'participantId': 1,\n",
       "  'skillSlot': 1,\n",
       "  'timestamp': 195859},\n",
       " {'eventType': 'SKILL_LEVEL_UP',\n",
       "  'levelUpType': 'NORMAL',\n",
       "  'participantId': 1,\n",
       "  'skillSlot': 3,\n",
       "  'timestamp': 286875},\n",
       " {'eventType': 'SKILL_LEVEL_UP',\n",
       "  'levelUpType': 'NORMAL',\n",
       "  'participantId': 1,\n",
       "  'skillSlot': 3,\n",
       "  'timestamp': 358399},\n",
       " {'eventType': 'SKILL_LEVEL_UP',\n",
       "  'levelUpType': 'NORMAL',\n",
       "  'participantId': 1,\n",
       "  'skillSlot': 4,\n",
       "  'timestamp': 510350},\n",
       " {'eventType': 'SKILL_LEVEL_UP',\n",
       "  'levelUpType': 'NORMAL',\n",
       "  'participantId': 1,\n",
       "  'skillSlot': 3,\n",
       "  'timestamp': 625389},\n",
       " {'eventType': 'SKILL_LEVEL_UP',\n",
       "  'levelUpType': 'NORMAL',\n",
       "  'participantId': 1,\n",
       "  'skillSlot': 1,\n",
       "  'timestamp': 721002},\n",
       " {'eventType': 'SKILL_LEVEL_UP',\n",
       "  'levelUpType': 'NORMAL',\n",
       "  'participantId': 1,\n",
       "  'skillSlot': 3,\n",
       "  'timestamp': 838444},\n",
       " {'eventType': 'SKILL_LEVEL_UP',\n",
       "  'levelUpType': 'NORMAL',\n",
       "  'participantId': 1,\n",
       "  'skillSlot': 1,\n",
       "  'timestamp': 918878},\n",
       " {'eventType': 'SKILL_LEVEL_UP',\n",
       "  'levelUpType': 'NORMAL',\n",
       "  'participantId': 1,\n",
       "  'skillSlot': 4,\n",
       "  'timestamp': 1028841}]"
      ]
     },
     "execution_count": 29,
     "metadata": {},
     "output_type": "execute_result"
    }
   ],
   "source": [
    "event_timeline(data, 1, 'SKILL_LEVEL_UP')"
   ]
  },
  {
   "cell_type": "markdown",
   "metadata": {},
   "source": [
    "## Continuous Timeline ##\n",
    "Some data (such as goldEarned) is a continuous value sampled at a given rate. It turns out that we will need much the same structure as with discrete events. FP to the rescue!"
   ]
  },
  {
   "cell_type": "code",
   "execution_count": 36,
   "metadata": {
    "collapsed": true
   },
   "outputs": [],
   "source": [
    "def timeline(data, selector):\n",
    "    return [item for sub in [selector(frame) for frame in data['timeline']['frames']] for item in sub]"
   ]
  },
  {
   "cell_type": "code",
   "execution_count": 41,
   "metadata": {
    "collapsed": true
   },
   "outputs": [],
   "source": [
    "def event_selector(participantId, eventType):\n",
    "    def selector(frame):\n",
    "        if 'events' in frame:\n",
    "            return [event for event in frame['events']\n",
    "                    if event['eventType'] == eventType\n",
    "                    and event['participantId'] == participantId]\n",
    "        else:\n",
    "            return []\n",
    "    return selector"
   ]
  },
  {
   "cell_type": "code",
   "execution_count": 42,
   "metadata": {
    "collapsed": false
   },
   "outputs": [
    {
     "data": {
      "text/plain": [
       "[{'eventType': 'SKILL_LEVEL_UP',\n",
       "  'levelUpType': 'NORMAL',\n",
       "  'participantId': 1,\n",
       "  'skillSlot': 2,\n",
       "  'timestamp': 45667},\n",
       " {'eventType': 'SKILL_LEVEL_UP',\n",
       "  'levelUpType': 'NORMAL',\n",
       "  'participantId': 1,\n",
       "  'skillSlot': 3,\n",
       "  'timestamp': 129787},\n",
       " {'eventType': 'SKILL_LEVEL_UP',\n",
       "  'levelUpType': 'NORMAL',\n",
       "  'participantId': 1,\n",
       "  'skillSlot': 1,\n",
       "  'timestamp': 195859},\n",
       " {'eventType': 'SKILL_LEVEL_UP',\n",
       "  'levelUpType': 'NORMAL',\n",
       "  'participantId': 1,\n",
       "  'skillSlot': 3,\n",
       "  'timestamp': 286875},\n",
       " {'eventType': 'SKILL_LEVEL_UP',\n",
       "  'levelUpType': 'NORMAL',\n",
       "  'participantId': 1,\n",
       "  'skillSlot': 3,\n",
       "  'timestamp': 358399},\n",
       " {'eventType': 'SKILL_LEVEL_UP',\n",
       "  'levelUpType': 'NORMAL',\n",
       "  'participantId': 1,\n",
       "  'skillSlot': 4,\n",
       "  'timestamp': 510350},\n",
       " {'eventType': 'SKILL_LEVEL_UP',\n",
       "  'levelUpType': 'NORMAL',\n",
       "  'participantId': 1,\n",
       "  'skillSlot': 3,\n",
       "  'timestamp': 625389},\n",
       " {'eventType': 'SKILL_LEVEL_UP',\n",
       "  'levelUpType': 'NORMAL',\n",
       "  'participantId': 1,\n",
       "  'skillSlot': 1,\n",
       "  'timestamp': 721002},\n",
       " {'eventType': 'SKILL_LEVEL_UP',\n",
       "  'levelUpType': 'NORMAL',\n",
       "  'participantId': 1,\n",
       "  'skillSlot': 3,\n",
       "  'timestamp': 838444},\n",
       " {'eventType': 'SKILL_LEVEL_UP',\n",
       "  'levelUpType': 'NORMAL',\n",
       "  'participantId': 1,\n",
       "  'skillSlot': 1,\n",
       "  'timestamp': 918878},\n",
       " {'eventType': 'SKILL_LEVEL_UP',\n",
       "  'levelUpType': 'NORMAL',\n",
       "  'participantId': 1,\n",
       "  'skillSlot': 4,\n",
       "  'timestamp': 1028841}]"
      ]
     },
     "execution_count": 42,
     "metadata": {},
     "output_type": "execute_result"
    }
   ],
   "source": [
    "timeline(data, event_selector(1, 'SKILL_LEVEL_UP'))"
   ]
  },
  {
   "cell_type": "code",
   "execution_count": 53,
   "metadata": {
    "collapsed": true
   },
   "outputs": [],
   "source": [
    "def part_selector(participantId, key):\n",
    "    def selector(frame):\n",
    "        val = {'timestamp': frame['timestamp'],\n",
    "               'value': frame['participantFrames'][str(participantId)][key]}\n",
    "        return [val]\n",
    "    return selector"
   ]
  },
  {
   "cell_type": "code",
   "execution_count": 54,
   "metadata": {
    "collapsed": false
   },
   "outputs": [
    {
     "data": {
      "text/plain": [
       "[{'timestamp': 0, 'value': 475},\n",
       " {'timestamp': 60011, 'value': 475},\n",
       " {'timestamp': 120017, 'value': 532},\n",
       " {'timestamp': 180020, 'value': 814},\n",
       " {'timestamp': 240040, 'value': 1102},\n",
       " {'timestamp': 300053, 'value': 1424},\n",
       " {'timestamp': 360110, 'value': 2049},\n",
       " {'timestamp': 420154, 'value': 2264},\n",
       " {'timestamp': 480188, 'value': 2488},\n",
       " {'timestamp': 540204, 'value': 2644},\n",
       " {'timestamp': 600261, 'value': 2958},\n",
       " {'timestamp': 660276, 'value': 3388},\n",
       " {'timestamp': 720283, 'value': 3854},\n",
       " {'timestamp': 780304, 'value': 4218},\n",
       " {'timestamp': 840309, 'value': 4620},\n",
       " {'timestamp': 900326, 'value': 5008},\n",
       " {'timestamp': 960332, 'value': 5368},\n",
       " {'timestamp': 1020333, 'value': 5800},\n",
       " {'timestamp': 1080357, 'value': 7059},\n",
       " {'timestamp': 1140369, 'value': 7284},\n",
       " {'timestamp': 1200375, 'value': 7398},\n",
       " {'timestamp': 1260408, 'value': 7512},\n",
       " {'timestamp': 1320411, 'value': 7626},\n",
       " {'timestamp': 1380443, 'value': 7740},\n",
       " {'timestamp': 1440468, 'value': 7854},\n",
       " {'timestamp': 1500507, 'value': 8093},\n",
       " {'timestamp': 1560521, 'value': 8207},\n",
       " {'timestamp': 1620521, 'value': 8291}]"
      ]
     },
     "execution_count": 54,
     "metadata": {},
     "output_type": "execute_result"
    }
   ],
   "source": [
    "timeline(data, part_selector(1, 'totalGold'))"
   ]
  },
  {
   "cell_type": "markdown",
   "metadata": {},
   "source": [
    "## Binning ##\n",
    "We are going to want to feed this to some ML or stats algorithms, but I don't know how to have continuous data like this. So, we're going to bin it into (up to) 60 1-minute bins. Binning and feeding to ML really only makes sense for continuous values right off the bat. For discrete values, further processing will be needed. Will need to try a couple of examples of that to figure out what we need."
   ]
  },
  {
   "cell_type": "code",
   "execution_count": 56,
   "metadata": {
    "collapsed": true
   },
   "outputs": [],
   "source": [
    "def bucket_timeline(timeline, interval=60000, intervals=60):\n",
    "    buckets = np.zeros((intervals,))\n",
    "    for event in timeline:\n",
    "        index = event['timestamp'] // interval\n",
    "        buckets[index] = event['value']\n",
    "    return buckets"
   ]
  },
  {
   "cell_type": "code",
   "execution_count": 60,
   "metadata": {
    "collapsed": false
   },
   "outputs": [
    {
     "data": {
      "text/plain": [
       "array([    0.,     0.,     0.,    73.,   192.,   202.,   646.,   689.,\n",
       "         643.,   207.,   187.,   362.,   536.,   364.,   357.,   552.,\n",
       "         734.,   880.,  1358.,  1289.,  1289.,  1289.,  1289.,  1289.,\n",
       "        1289.,  1289.,  1289.,  1289.,     0.,     0.,     0.,     0.,\n",
       "           0.,     0.,     0.,     0.,     0.,     0.,     0.,     0.,\n",
       "           0.,     0.,     0.,     0.,     0.,     0.,     0.,     0.,\n",
       "           0.,     0.,     0.,     0.,     0.,     0.,     0.,     0.,\n",
       "           0.,     0.,     0.,     0.])"
      ]
     },
     "execution_count": 60,
     "metadata": {},
     "output_type": "execute_result"
    }
   ],
   "source": [
    "A = bucket_timeline(timeline(data, part_selector(1, 'totalGold')))\n",
    "B = bucket_timeline(timeline(data, part_selector(2, 'totalGold')))\n",
    "A - B"
   ]
  },
  {
   "cell_type": "code",
   "execution_count": 61,
   "metadata": {
    "collapsed": true
   },
   "outputs": [],
   "source": [
    "def bucket_discrete_timeline(timeline, interval=60000, intervals=60):\n",
    "    buckets = []\n",
    "    for i in range(intervals):\n",
    "        buckets.append([])\n",
    "    for event in timeline:\n",
    "        index = event['timestamp'] // interval\n",
    "        buckets[index].append(event)\n",
    "    return buckets"
   ]
  },
  {
   "cell_type": "code",
   "execution_count": 63,
   "metadata": {
    "collapsed": false
   },
   "outputs": [
    {
     "data": {
      "text/plain": [
       "[[{'eventType': 'ITEM_PURCHASED',\n",
       "   'itemId': 1039,\n",
       "   'participantId': 1,\n",
       "   'timestamp': 3909},\n",
       "  {'eventType': 'ITEM_PURCHASED',\n",
       "   'itemId': 2003,\n",
       "   'participantId': 1,\n",
       "   'timestamp': 4451},\n",
       "  {'eventType': 'ITEM_PURCHASED',\n",
       "   'itemId': 2003,\n",
       "   'participantId': 1,\n",
       "   'timestamp': 4582},\n",
       "  {'eventType': 'ITEM_PURCHASED',\n",
       "   'itemId': 3340,\n",
       "   'participantId': 1,\n",
       "   'timestamp': 5002}],\n",
       " [],\n",
       " [],\n",
       " [{'eventType': 'ITEM_PURCHASED',\n",
       "   'itemId': 3715,\n",
       "   'participantId': 1,\n",
       "   'timestamp': 225186},\n",
       "  {'eventType': 'ITEM_PURCHASED',\n",
       "   'itemId': 2003,\n",
       "   'participantId': 1,\n",
       "   'timestamp': 225707},\n",
       "  {'eventType': 'ITEM_PURCHASED',\n",
       "   'itemId': 2003,\n",
       "   'participantId': 1,\n",
       "   'timestamp': 225869},\n",
       "  {'eventType': 'ITEM_PURCHASED',\n",
       "   'itemId': 2003,\n",
       "   'participantId': 1,\n",
       "   'timestamp': 226003},\n",
       "  {'eventType': 'ITEM_PURCHASED',\n",
       "   'itemId': 2003,\n",
       "   'participantId': 1,\n",
       "   'timestamp': 226167}],\n",
       " [],\n",
       " [],\n",
       " [{'eventType': 'ITEM_PURCHASED',\n",
       "   'itemId': 1036,\n",
       "   'participantId': 1,\n",
       "   'timestamp': 379221},\n",
       "  {'eventType': 'ITEM_PURCHASED',\n",
       "   'itemId': 1036,\n",
       "   'participantId': 1,\n",
       "   'timestamp': 379446},\n",
       "  {'eventType': 'ITEM_PURCHASED',\n",
       "   'itemId': 2003,\n",
       "   'participantId': 1,\n",
       "   'timestamp': 380228},\n",
       "  {'eventType': 'ITEM_PURCHASED',\n",
       "   'itemId': 2003,\n",
       "   'participantId': 1,\n",
       "   'timestamp': 380406}],\n",
       " [],\n",
       " [{'eventType': 'ITEM_PURCHASED',\n",
       "   'itemId': 3714,\n",
       "   'participantId': 1,\n",
       "   'timestamp': 519429},\n",
       "  {'eventType': 'ITEM_PURCHASED',\n",
       "   'itemId': 2003,\n",
       "   'participantId': 1,\n",
       "   'timestamp': 520052},\n",
       "  {'eventType': 'ITEM_PURCHASED',\n",
       "   'itemId': 2003,\n",
       "   'participantId': 1,\n",
       "   'timestamp': 520182}],\n",
       " [],\n",
       " [],\n",
       " [],\n",
       " [{'eventType': 'ITEM_PURCHASED',\n",
       "   'itemId': 1043,\n",
       "   'participantId': 1,\n",
       "   'timestamp': 724271},\n",
       "  {'eventType': 'ITEM_PURCHASED',\n",
       "   'itemId': 2003,\n",
       "   'participantId': 1,\n",
       "   'timestamp': 724939},\n",
       "  {'eventType': 'ITEM_PURCHASED',\n",
       "   'itemId': 2003,\n",
       "   'participantId': 1,\n",
       "   'timestamp': 725102},\n",
       "  {'eventType': 'ITEM_PURCHASED',\n",
       "   'itemId': 2003,\n",
       "   'participantId': 1,\n",
       "   'timestamp': 725238},\n",
       "  {'eventType': 'ITEM_PURCHASED',\n",
       "   'itemId': 2003,\n",
       "   'participantId': 1,\n",
       "   'timestamp': 725434}],\n",
       " [],\n",
       " [],\n",
       " [{'eventType': 'ITEM_PURCHASED',\n",
       "   'itemId': 3144,\n",
       "   'participantId': 1,\n",
       "   'timestamp': 920660},\n",
       "  {'eventType': 'ITEM_PURCHASED',\n",
       "   'itemId': 2003,\n",
       "   'participantId': 1,\n",
       "   'timestamp': 921413}],\n",
       " [],\n",
       " [],\n",
       " [{'eventType': 'ITEM_PURCHASED',\n",
       "   'itemId': 3153,\n",
       "   'participantId': 1,\n",
       "   'timestamp': 1082027},\n",
       "  {'eventType': 'ITEM_PURCHASED',\n",
       "   'itemId': 1037,\n",
       "   'participantId': 1,\n",
       "   'timestamp': 1085144},\n",
       "  {'eventType': 'ITEM_PURCHASED',\n",
       "   'itemId': 1053,\n",
       "   'participantId': 1,\n",
       "   'timestamp': 1087202},\n",
       "  {'eventType': 'ITEM_PURCHASED',\n",
       "   'itemId': 2003,\n",
       "   'participantId': 1,\n",
       "   'timestamp': 1088349},\n",
       "  {'eventType': 'ITEM_PURCHASED',\n",
       "   'itemId': 2003,\n",
       "   'participantId': 1,\n",
       "   'timestamp': 1088513},\n",
       "  {'eventType': 'ITEM_PURCHASED',\n",
       "   'itemId': 2003,\n",
       "   'participantId': 1,\n",
       "   'timestamp': 1088644},\n",
       "  {'eventType': 'ITEM_PURCHASED',\n",
       "   'itemId': 2003,\n",
       "   'participantId': 1,\n",
       "   'timestamp': 1088780}],\n",
       " [],\n",
       " [],\n",
       " [],\n",
       " [],\n",
       " [],\n",
       " [],\n",
       " [],\n",
       " [],\n",
       " [],\n",
       " [],\n",
       " [],\n",
       " [],\n",
       " [],\n",
       " [],\n",
       " [],\n",
       " [],\n",
       " [],\n",
       " [],\n",
       " [],\n",
       " [],\n",
       " [],\n",
       " [],\n",
       " [],\n",
       " [],\n",
       " [],\n",
       " [],\n",
       " [],\n",
       " [],\n",
       " [],\n",
       " [],\n",
       " [],\n",
       " [],\n",
       " [],\n",
       " [],\n",
       " [],\n",
       " [],\n",
       " [],\n",
       " [],\n",
       " [],\n",
       " [],\n",
       " []]"
      ]
     },
     "execution_count": 63,
     "metadata": {},
     "output_type": "execute_result"
    }
   ],
   "source": [
    "bucket_discrete_timeline(timeline(data, event_selector(1, 'ITEM_PURCHASED')))"
   ]
  },
  {
   "cell_type": "markdown",
   "metadata": {},
   "source": [
    "## Conclusion ##\n",
    "I will conclude this initial foray into timeline data by computing the adversarial timeline between mid-laners:"
   ]
  },
  {
   "cell_type": "code",
   "execution_count": 81,
   "metadata": {
    "collapsed": false
   },
   "outputs": [
    {
     "name": "stdout",
     "output_type": "stream",
     "text": [
      "[    0.     0.     0.   -45.  -155.  -100.  -186.  -149.   -75.   173.\n",
      "   393.   460.   621.   834.  1129.  1039.   526.   471.  1094.  1101.\n",
      "  1079.  1079.  1079.   659.   214.    66.  -274.  -324.     0.     0.\n",
      "     0.     0.     0.     0.     0.     0.     0.     0.     0.     0.\n",
      "     0.     0.     0.     0.     0.     0.     0.     0.     0.     0.\n",
      "     0.     0.     0.     0.     0.     0.     0.     0.     0.     0.]\n",
      "[False, True]\n"
     ]
    }
   ],
   "source": [
    "A, B = [part['participantId'] for part in data['participants'] if part['timeline']['lane'] == 'MIDDLE']\n",
    "gold_A = bucket_timeline(timeline(data, part_selector(A, 'totalGold')))\n",
    "gold_B = bucket_timeline(timeline(data, part_selector(B, 'totalGold')))\n",
    "print(gold_A - gold_B)\n",
    "print([part['stats']['winner'] for part in data['participants'] if part['participantId'] in [A, B]])"
   ]
  },
  {
   "cell_type": "markdown",
   "metadata": {},
   "source": [
    "*Fin*"
   ]
  }
 ],
 "metadata": {
  "kernelspec": {
   "display_name": "Python 3",
   "language": "python",
   "name": "python3"
  },
  "language_info": {
   "codemirror_mode": {
    "name": "ipython",
    "version": 3
   },
   "file_extension": ".py",
   "mimetype": "text/x-python",
   "name": "python",
   "nbconvert_exporter": "python",
   "pygments_lexer": "ipython3",
   "version": "3.4.3"
  }
 },
 "nbformat": 4,
 "nbformat_minor": 0
}
